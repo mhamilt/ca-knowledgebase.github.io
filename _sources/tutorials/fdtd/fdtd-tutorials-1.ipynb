{
 "cells": [
  {
   "cell_type": "markdown",
   "metadata": {},
   "source": [
    "# The 1D Wave\n",
    "\n",
    "This example of FDTD in Python will consider the 1D Wave Equation with generic loss is: \n",
    "\n",
    "$$\n",
    "\\ddot{u} = c^2 u^{\\prime\\prime} - 2 \\sigma \\dot{u}\n",
    "$$\n",
    "\n",
    "\n",
    "## Assumptions\n",
    "\n",
    "This tutorial assumes that you are already familiar with the 1D Wave Equation and its derivation. It also assumes that you have a grasp of [finite difference operators]() and the derivation of the finite difference scheme for the 1D Wave.\n",
    "\n",
    "If you are not familiar with the above or need a refresher follow the links below\n",
    "\n",
    "- [1D Wave PDE]()\n",
    "- [FDTD Operators]()\n",
    "- [1D Wave FDTD Scheme]()\n",
    "\n",
    "### Who are you\n",
    "\n",
    "The assumed audience for this tutorial is someone who is familiar with the baic of python but has never programmed a finite difference scheme before. It is also relevant to those who are familiar with programming a finite difference scheme in MATLAB, but wish to create an implement in python.\n",
    "\n",
    "## Overview\n",
    "\n",
    "As a reminder, the finite difference scheme for the 1D wave we are trying to implement is:\n",
    "\n",
    "$$\n",
    "\\underbrace{(1+\\sigma k)(I)}_{A}u^{n}  = \\underbrace{(\\lambda^2D_{xx} + 2I}_{B})u^{n-1} + \\underbrace{(\\sigma k - 1)(I)}_{C} u^{n-2} \n",
    "$$\n",
    "\n",
    "$$\n",
    "\\lambda = \\frac{ck}{h}; \\quad \\sigma = \\frac{6\\log(10)}{T_{60}}\n",
    "$$\n",
    "\n",
    "$$\n",
    "D_{xx} = \\begin{bmatrix}\n",
    "               -2 & 1 & &   \\\\\n",
    "               1 & -2 & 1 & \\\\\n",
    "                  & \\ddots & \\ddots & \\ddots \\\\\n",
    "                  & & 1 & -2\n",
    "             \\end{bmatrix}\n",
    "$$\n",
    "\n",
    "with following defintions:\n",
    "\n",
    "- $n$: the time step index\n",
    "- $k$: time step for a given _sample rate_\n",
    "- $\\lambda$: the courant number\n",
    "- $\\sigma$: a loss parameter\n",
    "- $A$, $B$, and $C$: coefficient matrices.\n",
    "\n",
    "This of course is not the only way we can express the scheme, however a matrix approach will be taken for the remainder of this tutorial. This should hopefully provide a clear connection between the above equation of motion and the actuall programme. The scheme could also be expressed in terms of grid point $l$, which is a perfectly legitmate method and it would be more relevant for a programme that does not take a matrix approach (e.g. C / C++):\n",
    "\n",
    "$$\n",
    "u^{n}_{l} = \\frac{2u^{n-1}_{l} + (\\sigma k - 1)u^{n−2} + \\lambda^2(u^{n-1}_{l-1} − 2u^{n-1}_{l} + u^{n-1}_{l+1})}{(1 + \\sigma k)}\n",
    "$$\n",
    "\n",
    "\n",
    "Any Finite Difference scheme you need to programme can likely be split into the following sections:\n",
    "\n",
    "1. [Import Libraries](#Import-Libraries)\n",
    "2. [Parameters](#Parameters)\n",
    "    - Simluation Parameters\n",
    "    - Defined Coefficients\n",
    "    - Derived Coefficients\n",
    "    - Grid Coefficients\n",
    "3. [Matrices](#Matrices)\n",
    "    - Stencil Matrices\n",
    "    - Coefficient Matrices\n",
    "    - Time State Vector\n",
    "    - Input Output Vectors\n",
    "5. [Simulation](#Simulation)\n",
    "    - Initial Conditions\n",
    "    - Main Time Loop\n",
    "\n",
    "A full version of the script can be found in [Appendex A](#appendix-a). The following breakdown of the script will explore and elaborate on certain choices you might make that would be absent from a final verion."
   ]
  },
  {
   "cell_type": "markdown",
   "metadata": {},
   "source": [
    "## Import Libraries"
   ]
  },
  {
   "cell_type": "code",
   "execution_count": 1,
   "metadata": {},
   "outputs": [],
   "source": [
    "from numpy import pi, log, sqrt, floor, zeros\n",
    "from scipy import sparse"
   ]
  },
  {
   "cell_type": "markdown",
   "metadata": {},
   "source": [
    "We have decided here to import only specific functions from `numpy`. This will make some of the code more brief, but also provide more explicit parallels to what you may write in MATLAB / Octave. See [numpy's own style  guide](https://numpydoc.readthedocs.io/en/latest/format.html) when using `numpy` in a larger code base.\n",
    "\n",
    "`scipy` provides the functionality we need for sparse matrices. The style guide for `scipy` is to simply include the module that is required unlike numpy's `import numpy as np` style."
   ]
  },
  {
   "cell_type": "markdown",
   "metadata": {},
   "source": [
    "## Parameters\n",
    "\n",
    "Next we will define the parameters which will provide our point of entry for interacting with the model.\n",
    "\n",
    "### Simulation Parameters\n",
    "\n",
    "The first set of parameters relate to the actual simulation. This section will contain parameters such as sample rate, duration, input and output points."
   ]
  },
  {
   "cell_type": "code",
   "execution_count": 2,
   "metadata": {},
   "outputs": [],
   "source": [
    "SR = 44100.0  # sample rate (Hz)\n",
    "Tf = 0.5      # duration of simulation (s)\n",
    "xi = 0.8      # coordinate of excitation (normalised, 0 - 1)\n",
    "xo = 0.1      # coordinate of output (normalised, 0 - 1)"
   ]
  },
  {
   "cell_type": "markdown",
   "metadata": {},
   "source": [
    "### Coefficients\n",
    "\n",
    "The next set of parameters are the coefficients, which will be split into three cataegories\n",
    "\n",
    "- Defined\n",
    "- Derived\n",
    "- Grid\n",
    "\n",
    "#### Defined\n",
    "\n",
    "Defined coefficients are those which you will give an actual explicit value. In this case we have: \n",
    "\n",
    "\n",
    "- `f0`: the fundamental frequency $f_0$\n",
    "- `r`: the radius of the string in meters\n",
    "- `L`: the length of the string in meters\n",
    "- `rho`: the density $\\rho$ in $\\text{kg m}^{-3}$\n",
    "- `T60`: the $T_{60}$ decay time\n"
   ]
  },
  {
   "cell_type": "code",
   "execution_count": 3,
   "metadata": {},
   "outputs": [],
   "source": [
    "f0 = 440.0   # fundamental frequency (Hz)\n",
    "r = 1.27e-4  # string radius (m)\n",
    "L = 1.0      # length (m)\n",
    "rho = 7850   # density (kg/m^3) of steel\n",
    "T60 = 0.5    # T60 (s)"
   ]
  },
  {
   "cell_type": "markdown",
   "metadata": {},
   "source": [
    "#### Derived\n",
    "\n",
    "The next set of coefficients are those which are _derived_ from the previous set.\n",
    "\n",
    "A definition of tension $T$ based on the $f_0$, _density_, _length_, and _radius_ is included here for easier interaction with the programme.\n",
    "\n",
    "$$\n",
    "T =  (2 f_0 L r)^{2}\\rho \\pi\n",
    "$$\n"
   ]
  },
  {
   "cell_type": "code",
   "execution_count": 4,
   "metadata": {},
   "outputs": [],
   "source": [
    "T = ((2.0 * f0 * L * r) ** 2.0) * rho * pi  # Tension in Newtons\n",
    "A = pi * (r ** 2.0)          # string cross-sectional area\n",
    "c = sqrt(T / (rho * A))      # wave speed\n",
    "sig = 6.0 * log(10.0) / T60  # loss parameter"
   ]
  },
  {
   "cell_type": "markdown",
   "metadata": {},
   "source": [
    "To demarcate easily between `float` and `int` types it is recommendate to include the `.0` on numbers where the value is intended to be a `float`.\n"
   ]
  },
  {
   "cell_type": "markdown",
   "metadata": {},
   "source": [
    "#### Grid\n",
    "\n",
    "Grid coefficients are those that relate to the FDTD and not the physical model and include variables such as\n",
    "\n",
    "- `k`: the time step for a given sampling rate\n",
    "- `hmin`: the minimume grid spacing $h_{\\text{min}}$ derived from von Neumann anaylsis\n",
    "- `N`: number of grid points given a length $L$ and $h_{\\text{min}}$\n",
    "- `h`: an adjusted grid spacing which depends on `N` and which will be used as the grid spacing for the remainder\n",
    "- `lamb`: the courant number $\\lambda$\n",
    "- `Nf`: The number of time steps in the simulation which is derived from sampling rate and simulation duration $T_f$"
   ]
  },
  {
   "cell_type": "code",
   "execution_count": 5,
   "metadata": {},
   "outputs": [],
   "source": [
    "k = 1.0 / SR  # time step\n",
    "hmin = c * k  # stability condition\n",
    "\n",
    "N = int(floor(L / hmin))  # number of segments (N+1 is number of grid points)\n",
    "h = L / N                 # adjusted grid spacing\n",
    "\n",
    "lamb = c * k / h          # Courant number\n",
    "Nf = int(floor(SR * Tf))  # number of time steps"
   ]
  },
  {
   "cell_type": "markdown",
   "metadata": {},
   "source": [
    "It is important to note that the simulation will not be stable unless $h > h_{\\text{min}}$\n",
    "\n",
    "Both `N` and `Nf` are integers, however the output of [numpy's `floor` function](https://numpy.org/doc/stable/reference/generated/numpy.floor.html) will be `float` given that `L` and `hmin` are `float` type variables. Wrapping the function in `int()` converts the type to integer, which is required when indexing an array.\n",
    "\n",
    "The variable name `lamb` has been used as [`lambda` is a reserved word in python](https://docs.python.org/3/reference/lexical_analysis.html#keywords)."
   ]
  },
  {
   "cell_type": "markdown",
   "metadata": {},
   "source": [
    "## Matrices\n",
    "\n",
    "### Stencil Matrices\n",
    "\n",
    "For quality of life we can define some stencil matrices so that our calculations are similar to the update equation."
   ]
  },
  {
   "cell_type": "code",
   "execution_count": 6,
   "metadata": {},
   "outputs": [],
   "source": [
    "I = sparse.eye(N)\n",
    "Dxx = sparse.diags([1, -2, 1], [-1, 0, 1], shape=(N, N))"
   ]
  },
  {
   "cell_type": "markdown",
   "metadata": {},
   "source": [
    "It is worth noting here that if some boundary conditions were required, then the initialisation of `Dxx` would be a little different. The return format of `sparse.diags` is not fixed. If you need to make further alterations to the stencil, then you may need to [specify a sparse matrix format](https://docs.scipy.org/doc//scipy/reference/sparse.html#sparse-matrix-classes)."
   ]
  },
  {
   "cell_type": "markdown",
   "metadata": {},
   "source": [
    "### Coefficient Matrices\n",
    "\n",
    "Reminding ourselves of the scheme:\n",
    "\n",
    "$$\n",
    "\\underbrace{(1+\\sigma k)(I)}_{A}u^{n}  = \\underbrace{(\\lambda^2D_{xx} + 2I}_{B})u^{n-1} + \\underbrace{(\\sigma k - 1)(I)}_{C} u^{n-2} \n",
    "$$\n",
    "\n",
    "with the coefficient matrices defined as:\n",
    "\n",
    "$$\n",
    "\\begin{aligned}\n",
    "A &= (1+\\sigma k)I  \\\\\n",
    "B &= \\lambda^2D_{xx} + 2I \\\\\n",
    "C &=(\\sigma k - 1)I \\\\\n",
    "\\end{aligned}\n",
    "$$\n",
    "\n",
    "We can tweak these definitions a little to be\n",
    "\n",
    "$$\n",
    "\\begin{aligned}\n",
    "B &= A^{-1}(\\lambda^2D_{xx} + 2I) \\\\\n",
    "C &= A^{-1}(\\sigma k - 1)I \\\\\n",
    "\\end{aligned}\n",
    "$$\n",
    "\n",
    "Given all the ground work that has been done, we can now pretty much just write that."
   ]
  },
  {
   "cell_type": "code",
   "execution_count": 7,
   "metadata": {},
   "outputs": [],
   "source": [
    "A = 1.0 / (1.0 + (k * sig))  # inverted\n",
    "B = A * ((lamb ** 2.0) * Dxx + (2.0 * I))\n",
    "C = A * ((-1.0 + (k * sig)) * I)"
   ]
  },
  {
   "cell_type": "markdown",
   "metadata": {},
   "source": [
    "`A` has been pre-inverted here to avoid some uglier formatting."
   ]
  },
  {
   "cell_type": "markdown",
   "metadata": {},
   "source": [
    "#### Stencil Shape\n",
    "\n",
    "It is good practice at this point to have a look at the shape the matrices. This will confirm if you need to make any adjustments or \"zero out\" any rows or columns in your matrices.\n",
    "\n",
    "##### B Matrix"
   ]
  },
  {
   "cell_type": "code",
   "execution_count": 8,
   "metadata": {
    "scrolled": false
   },
   "outputs": [
    {
     "data": {
      "image/png": "[encoded data removed]",
      "text/plain": [
       "<Figure size 432x288 with 1 Axes>"
      ]
     },
     "metadata": {
      "needs_background": "light"
     },
     "output_type": "display_data"
    }
   ],
   "source": [
    "import matplotlib.pyplot as plt\n",
    "\n",
    "plt.spy(B, markersize=0.5)\n",
    "plt.show()"
   ]
  },
  {
   "cell_type": "markdown",
   "metadata": {},
   "source": [
    "##### C Matrix"
   ]
  },
  {
   "cell_type": "code",
   "execution_count": 9,
   "metadata": {},
   "outputs": [
    {
     "data": {
      "image/png": "[encoded data removed]",
      "text/plain": [
       "<Figure size 432x288 with 1 Axes>"
      ]
     },
     "metadata": {
      "needs_background": "light"
     },
     "output_type": "display_data"
    }
   ],
   "source": [
    "plt.spy(C, markersize=0.5)\n",
    "plt.show()"
   ]
  },
  {
   "cell_type": "markdown",
   "metadata": {},
   "source": [
    "## Time State Vectors\n",
    "\n",
    "Allocate the correct amount of memory using [numpy's `zeros()` function](https://numpy.org/doc/stable/reference/generated/numpy.zeros.html).\n",
    "\n",
    "There are only 3 time steps in the scheme. This means we only need 3 vectors which we can swap each time step. The states in our scheme $u^{n}$, $u^{n-1}$, and $u^{n-2}$ can be will be represented by `u0`, `u1`, and `u2` respectively."
   ]
  },
  {
   "cell_type": "code",
   "execution_count": 10,
   "metadata": {},
   "outputs": [],
   "source": [
    "u0 = zeros(N)\n",
    "u1 = zeros(N)\n",
    "u2 = zeros(N)"
   ]
  },
  {
   "cell_type": "markdown",
   "metadata": {},
   "source": [
    "### Input / Output\n",
    "\n",
    "Here we can define our inputs and outputs. We want to get audio output of our simulation so we will need a vector of size `Nf` to hold our sample ouput for each time step. \n",
    "\n",
    "We also need to define the grid point the initial condition will be placed, `li`, and the grid point that will be used as the audio \"read-out\" point, `lo`."
   ]
  },
  {
   "cell_type": "code",
   "execution_count": 11,
   "metadata": {},
   "outputs": [],
   "source": [
    "out = zeros(Nf)\n",
    "\n",
    "li = int(floor(xi * N))  # grid index of excitation\n",
    "lo = int(floor(xo * N))  # grid index of output"
   ]
  },
  {
   "cell_type": "markdown",
   "metadata": {},
   "source": [
    "Since `li` and `lo` are indices, we use `int` here to convert the output of `floor`."
   ]
  },
  {
   "cell_type": "markdown",
   "metadata": {},
   "source": [
    "## Simulation\n",
    "\n",
    "### Initial Conditions\n",
    "\n",
    "The intial condition will be a simple delta."
   ]
  },
  {
   "cell_type": "code",
   "execution_count": 12,
   "metadata": {},
   "outputs": [],
   "source": [
    "u1[li] = 1.0"
   ]
  },
  {
   "cell_type": "markdown",
   "metadata": {},
   "source": [
    "### Main Time Loop"
   ]
  },
  {
   "cell_type": "code",
   "execution_count": 13,
   "metadata": {
    "scrolled": false
   },
   "outputs": [],
   "source": [
    "for n in range(Nf):\n",
    "    u0 = B * u1 + C * u2\n",
    "    u2, u1, u0 = u1, u0, u2  # state swap\n",
    "    out[n] = u0[lo]"
   ]
  },
  {
   "cell_type": "markdown",
   "metadata": {},
   "source": [
    "The update `u0 = B * u1 + C * u2` is pretty close to the original scheme equation.\n",
    "\n",
    "The second step of swapping the states is a little less intuitive. Here we pack the states into a list on the right hand side:\n",
    "\n",
    "```py\n",
    "= u1, u0, u2\n",
    "```\n",
    "\n",
    "We can then unpack the same list into the same variables on the left hand side\n",
    "\n",
    "```py\n",
    "u2, u1, u0 =\n",
    "``` \n",
    "\n",
    "- `u0 = u2`\n",
    "- `u2 = u1`\n",
    "- `u1 = u0`\n",
    "\n",
    "However if we were to write it this way\n",
    "\n",
    "```py\n",
    "u0 = u2 # fine\n",
    "u2 = u1 # fine\n",
    "u1 = u0 # uh-oh, this means u1 == u2 !!\n",
    "```\n",
    "\n",
    "This is because assigning one `numpy` array variable to another does not copy it as you might expect in MATLAB.\n",
    "\n",
    "After this we read `u0` at index `lo` and store that as a sample  at index `n` in our audio vector `out`."
   ]
  }
 ],
 "metadata": {
  "kernelspec": {
   "display_name": "Python 3",
   "language": "python",
   "name": "python3"
  },
  "language_info": {
   "codemirror_mode": {
    "name": "ipython",
    "version": 3
   },
   "file_extension": ".py",
   "mimetype": "text/x-python",
   "name": "python",
   "nbconvert_exporter": "python",
   "pygments_lexer": "ipython3",
   "version": "3.8.10"
  }
 },
 "nbformat": 4,
 "nbformat_minor": 5
}
