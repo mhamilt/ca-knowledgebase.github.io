{
 "cells": [
  {
   "cell_type": "markdown",
   "id": "hungarian-needle",
   "metadata": {},
   "source": [
    "# Finite Difference with Python\n",
    "\n",
    "## The 1D Wave\n",
    "\n",
    "This example of FDTD in Python will consider the 1D Wave Equation $$\\ddot{u} = c^2 u^{\\prime\\prime}$$\n",
    "\n",
    "\n",
    "### Assumptions\n",
    "\n",
    "This tutorials assumes that you are already familiar with the 1D wave equation and its derivation. It also assumes that you have a grasp of the Finite Difference operators and the derivation of the Finite Difference Scheme for the 1D Wave.\n",
    "\n",
    "If you are not familiar with the above or need a refresher follow the links below\n",
    "\n",
    "- [1D Wave PDE]()\n",
    "- [FDTD Operators]()\n",
    "- [1D Wave FDTD Scheme]()\n",
    "\n",
    "\n",
    "### Overview\n",
    "\n",
    "As a reminder, the finite difference scheme for the 1D wave we are trying to implement is:\n",
    "\n",
    "\\begin{equation*}\n",
    "\\underbrace{(1+\\sigma k)(I)}_{A}u^{n+1}  = \\underbrace{(\\lambda^2D_{xx} + 2I}_{B})u^{n}  -\\underbrace{(1-\\sigma k)(I)}_{C} u^{n-1} \n",
    "\\label{eq:scheme} \\tag{1}\n",
    "\\end{equation*}\n",
    "\n",
    "\\begin{equation*}\n",
    "\\lambda = \\frac{ck}{h}; \\quad \\sigma = \\frac{6\\log(10)}{T_{60}}\n",
    "\\label{eq:courant} \\tag{2}\n",
    "\\end{equation*}\n",
    "\n",
    "\\begin{align}\n",
    "D_{xx} & = \\begin{bmatrix}\n",
    "               -2 & 1 & &   \\\\[0.3em]\n",
    "               1 & -2 & 1 & \\\\[0.3em]\n",
    "                  & \\ddots & \\ddots & \\ddots  \\\\[0.3em]\n",
    "                  & & 1 & -2\n",
    "             \\end{bmatrix}\n",
    "             \\label{eq:boundmat} \\tag{3}\n",
    "\\end{align}\n",
    "\n",
    "\n",
    "\n",
    "Any Finite Difference scheme you need to programnme can likely be split into the following sections\n",
    "\n",
    "1. Import Libraries\n",
    "1. Coefficients\n",
    "    - Defined\n",
    "    - Derived\n",
    "      - Motion\n",
    "      - Loss\n",
    "2. Build Coefficient Matrices\n",
    "    - A, B, C\n",
    "    - Boundary Conditions\n",
    "3. Set up time-state Matrices\n",
    "4. Set initial conditions  \n",
    "    - Generate a raised cosine\n",
    "5. Define time-step state update methods\n",
    "\n",
    "- Appendix A: Scheme class in full.\n",
    "\n"
   ]
  },
  {
   "cell_type": "markdown",
   "id": "veterinary-bikini",
   "metadata": {},
   "source": [
    "### Import Libraries"
   ]
  },
  {
   "cell_type": "code",
   "execution_count": 1,
   "id": "norman-michael",
   "metadata": {},
   "outputs": [],
   "source": [
    "import numpy as np\n",
    "from numpy import pi,log,sqrt,floor\n",
    "from scipy import sparse"
   ]
  },
  {
   "cell_type": "markdown",
   "id": "magnetic-dayton",
   "metadata": {},
   "source": [
    "#### Simulation Parameters"
   ]
  },
  {
   "cell_type": "code",
   "execution_count": 2,
   "id": "friendly-status",
   "metadata": {},
   "outputs": [],
   "source": [
    "SR = 44100.0;    # sample rate (Hz)\n",
    "Tf = 0.1;        # duration of simulation (s)\n",
    "xi = 0.8;        # coordinate of excitation (normalised, 0 - 1)\n",
    "xo = 0.1;        # coordinate of output (normalised, 0 - 1)"
   ]
  },
  {
   "cell_type": "markdown",
   "id": "standard-helmet",
   "metadata": {},
   "source": [
    "### Coefficients\n",
    "#### Defined"
   ]
  },
  {
   "cell_type": "code",
   "execution_count": 3,
   "id": "opposite-instrument",
   "metadata": {},
   "outputs": [],
   "source": [
    "f0  = 440.0;   # fundamental frequency (Hz)\n",
    "r   = 1.27e-4; # string radius (m)\n",
    "L   = 1.0;     # length (m)\n",
    "rho = 7850;    # density (kg/m^3) of steel\n",
    "T60 = 1.0;     # T60 (s)\n",
    "bc  = 1;        # boundary condition 1: pivot; 2: clamped"
   ]
  },
  {
   "cell_type": "markdown",
   "id": "collect-deputy",
   "metadata": {},
   "source": [
    "#### Derived"
   ]
  },
  {
   "cell_type": "code",
   "execution_count": 4,
   "id": "manufactured-shade",
   "metadata": {},
   "outputs": [],
   "source": [
    "T = rho * pi * ((f0 * 2 * L) ** 2) * (r**2); # Tension in Newtons\n",
    "A = pi * (r ** 2.0);         # string cross-sectional area\n",
    "I = 0.25 * pi * (r ** 4.0);  # string moment of intertia\n",
    "c = sqrt( T / (rho * A));    # wave speed\n",
    "sig = 6.0 * log(10.0) / T60; # loss parameter"
   ]
  },
  {
   "cell_type": "markdown",
   "id": "oriented-capacity",
   "metadata": {},
   "source": [
    "#### Grid"
   ]
  },
  {
   "cell_type": "code",
   "execution_count": 5,
   "id": "damaged-scanner",
   "metadata": {},
   "outputs": [],
   "source": [
    "k    = 1.0 / SR; # time step\n",
    "hmin = c * k; # stability condition \n",
    "hmin = sqrt(0.5 * (c**2.*k**2 + sqrt(c ** 4 * k**4)));    # minimal grid spacing\n",
    "\n",
    "N = int(floor(L / hmin)); # number of segments (N+1 is number of grid points)\n",
    "h = L / N;                # adjusted grid spacing\n",
    "\n",
    "lamb = c * k / h;           # Courant number\n",
    "Nf   = int(floor(SR * Tf)); # number of time steps"
   ]
  },
  {
   "cell_type": "markdown",
   "id": "israeli-collins",
   "metadata": {},
   "source": [
    "#### Input / Ouput"
   ]
  },
  {
   "cell_type": "code",
   "execution_count": 6,
   "id": "breathing-edition",
   "metadata": {},
   "outputs": [],
   "source": [
    "li = int(floor(xi * N));         # grid index of excitation\n",
    "lo = int(floor(xo * N));         # grid index of output"
   ]
  },
  {
   "cell_type": "markdown",
   "id": "velvet-handling",
   "metadata": {},
   "source": [
    "### Time States\n",
    "\n",
    "Allocate the correct amount of memory using [`np.zeros()`](https://numpy.org/doc/stable/reference/generated/numpy.zeros.html)"
   ]
  },
  {
   "cell_type": "code",
   "execution_count": 7,
   "id": "acting-venture",
   "metadata": {},
   "outputs": [],
   "source": [
    "u0  = np.zeros(N)\n",
    "u1  = np.zeros(N)\n",
    "u2  = np.zeros(N)\n",
    "\n",
    "out = np.zeros(Nf)"
   ]
  },
  {
   "cell_type": "markdown",
   "id": "cathedral-plaintiff",
   "metadata": {},
   "source": [
    "#### Initial Condition"
   ]
  },
  {
   "cell_type": "code",
   "execution_count": 8,
   "id": "central-combat",
   "metadata": {},
   "outputs": [],
   "source": [
    "u1[li] = 1.0;"
   ]
  },
  {
   "cell_type": "markdown",
   "id": "disabled-partnership",
   "metadata": {},
   "source": [
    "### Matrices"
   ]
  },
  {
   "cell_type": "code",
   "execution_count": 9,
   "id": "exciting-tackle",
   "metadata": {},
   "outputs": [
    {
     "name": "stdout",
     "output_type": "stream",
     "text": [
      "[[-0.99937364  0.          0.         ...  0.          0.\n",
      "   0.        ]\n",
      " [ 0.         -0.99937364  0.         ...  0.          0.\n",
      "   0.        ]\n",
      " [ 0.          0.         -0.99937364 ...  0.          0.\n",
      "   0.        ]\n",
      " ...\n",
      " [ 0.          0.          0.         ... -0.99937364  0.\n",
      "   0.        ]\n",
      " [ 0.          0.          0.         ...  0.         -0.99937364\n",
      "   0.        ]\n",
      " [ 0.          0.          0.         ...  0.          0.\n",
      "  -0.99937364]]\n"
     ]
    }
   ],
   "source": [
    "Dxx = sparse.diags([1, -2, 1], [-1, 0, 1], shape=(N, N)).tocsc()\n",
    "\n",
    "A = 1.0 / (1.0 + (k * sig)) # inverted\n",
    "B = A * ((lamb ** 2) * Dxx + (2 * sparse.eye(N)));\n",
    "C = A * ((-1.0 + (k * sig))  * sparse.eye(N));\n",
    "\n",
    "print(C.todense())"
   ]
  },
  {
   "cell_type": "markdown",
   "id": "medieval-miami",
   "metadata": {},
   "source": [
    "#### Stencil Shape"
   ]
  },
  {
   "cell_type": "code",
   "execution_count": 10,
   "id": "complicated-robinson",
   "metadata": {
    "scrolled": true
   },
   "outputs": [
    {
     "data": {
      "image/png": "[encoded data removed]",
      "text/plain": [
       "<Figure size 432x288 with 1 Axes>"
      ]
     },
     "metadata": {
      "needs_background": "light"
     },
     "output_type": "display_data"
    },
    {
     "name": "stdout",
     "output_type": "stream",
     "text": [
      "\n"
     ]
    }
   ],
   "source": [
    "import matplotlib.pyplot as plt\n",
    "\n",
    "plt.spy(B, markersize=0.5)\n",
    "\n",
    "plt.show()\n",
    "\n",
    "print()"
   ]
  },
  {
   "cell_type": "code",
   "execution_count": 11,
   "id": "unable-vatican",
   "metadata": {},
   "outputs": [
    {
     "data": {
      "image/png": "[encoded data removed]",
      "text/plain": [
       "<Figure size 432x288 with 1 Axes>"
      ]
     },
     "metadata": {
      "needs_background": "light"
     },
     "output_type": "display_data"
    }
   ],
   "source": [
    "import matplotlib.pyplot as plt\n",
    "\n",
    "plt.spy(C, markersize=0.5)\n",
    "\n",
    "plt.show()"
   ]
  },
  {
   "cell_type": "markdown",
   "id": "robust-accommodation",
   "metadata": {},
   "source": [
    "#### Main Time Loop"
   ]
  },
  {
   "cell_type": "code",
   "execution_count": 12,
   "id": "atomic-switzerland",
   "metadata": {
    "scrolled": false
   },
   "outputs": [],
   "source": [
    "for n in range(Nf):\n",
    "    u0 = B * u1 + C * u2\n",
    "    u2, u1, u0 = u1, u0, u2 # state swap\n",
    "    out[n] = u0[lo]"
   ]
  },
  {
   "cell_type": "markdown",
   "id": "transsexual-district",
   "metadata": {},
   "source": [
    "### Audio Output"
   ]
  },
  {
   "cell_type": "code",
   "execution_count": 13,
   "id": "pressing-amsterdam",
   "metadata": {},
   "outputs": [
    {
     "data": {
      "text/html": [
       "\n",
       "                <audio  controls=\"controls\" >\n",
       "                    <source src=\"data:audio/wav;base64,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\" type=\"audio/wav\" />\n",
       "                    Your browser does not support the audio element.\n",
       "                </audio>\n",
       "              "
      ],
      "text/plain": [
       "<IPython.lib.display.Audio object>"
      ]
     },
     "execution_count": 13,
     "metadata": {},
     "output_type": "execute_result"
    }
   ],
   "source": [
    "import IPython.display as ipd\n",
    "\n",
    "ipd.Audio(data=out, rate=SR)"
   ]
  }
 ],
 "metadata": {
  "kernelspec": {
   "display_name": "Python 3 (ipykernel)",
   "language": "python",
   "name": "python3"
  },
  "language_info": {
   "codemirror_mode": {
    "name": "ipython",
    "version": 3
   },
   "file_extension": ".py",
   "mimetype": "text/x-python",
   "name": "python",
   "nbconvert_exporter": "python",
   "pygments_lexer": "ipython3",
   "version": "3.9.2"
  }
 },
 "nbformat": 4,
 "nbformat_minor": 5
}
